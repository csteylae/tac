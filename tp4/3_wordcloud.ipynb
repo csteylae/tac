{
 "cells": [
  {
   "cell_type": "markdown",
   "metadata": {},
   "source": [
    "# Wordcloud"
   ]
  },
  {
   "cell_type": "code",
   "execution_count": null,
   "metadata": {},
   "outputs": [],
   "source": [
    "from collections import Counter\n",
    "from wordcloud import WordCloud\n",
    "import os\n",
    "import nltk\n",
    "nltk.download('stopwords')\n",
    "from nltk.corpus import stopwords\n",
    "from IPython.display import Image"
   ]
  },
  {
   "cell_type": "code",
   "execution_count": null,
   "metadata": {},
   "outputs": [],
   "source": [
    "# Stopwords (Idem que dans s1)\n",
    "sw = stopwords.words(\"french\")\n",
    "sw += [\"les\", \"plus\", \"cette\", \"fait\", \"faire\", \"être\", \"deux\", \"comme\", \"dont\", \"tout\",\n",
    "       \"ils\", \"bien\", \"sans\", \"peut\", \"tous\", \"après\", \"ainsi\", \"donc\", \"cet\", \"sous\",\n",
    "       \"celle\", \"entre\", \"encore\", \"toutes\", \"pendant\", \"moins\", \"dire\", \"cela\", \"non\",\n",
    "       \"faut\", \"trois\", \"aussi\", \"dit\", \"avoir\", \"doit\", \"contre\", \"depuis\", \"autres\",\n",
    "       \"van\", \"het\", \"autre\", \"jusqu\", \"ville\", \"rossel\", \"dem\", \"sach\", \"heures\", \"toutes\", \"hier\", \"très\"\n",
    "       , \"etc\", \"leurs\", \"grandes\", \"lés\", \"ille\", \"quo\", \"peu\", \"bon\", \"vers\", \"grand\", \"puis\", \"mois\", \"personne\",\n",
    "       \"devant\", \"beau\", \"mén\", \"elles\", \"toujours\", \"déjà\", \"avenue\", \"quatre\", \"fort\", \"jours\", \"aujourd\",\n",
    "       \"car\", \"hier\", \"toute\", \"grands\", \"app\", \"matin\", \"bne\", \"bas\", \"adresser\", \"haut\", \"dés\",\n",
    "       \"place\", \"rue\", \"Bruxelles\", \"DCM\", \"ecr\", \"jour\",\"maison\", \"ans\", \"chez\", \"réf\", \"prendre\",\n",
    "       \"mod\", \"pers\", \"suite\", \"Mme\", \"voir\", \"cause\", \"louer\", \"porte\", \"belle\", \"fille\",\n",
    "       \"adr\", \"quart\", \"maisons\", \"rué\", \"fit\", \"seule\", \"agence\", \"plusieurs\", \"bonnes\", \"ceux\", \"quelques\",\n",
    "       \"faits\", \"jeune\", \"cent\", \"vient\", \"point\", \"portées\", \"avant\", \"serv\", \"com\", \"jard\",\n",
    "       \"enfant\", \"désire\", \"cuis\", \"Bruxelles\", \"bruxelles\", \"grande\", \"petit\", \"bons\", \"dcm\", \"soir\",\n",
    "       \"près\", \"bonne\", \"demande\", \"prix\", \"fois\", \"dés\", \"vendre\", \"jamais\", \"chaussée\", \"bonne\", \"franc\", \"lieu\", \"rien\", \"quartier\",\n",
    "       \"pris\", \"fois\", \"tranq\", \"pos\", \"vente\", \"bonne\", \"neuve\", \"cuisine\", \"servante\", \"mat\", \"écrire\",\n",
    "       \"juillet\", \"notaire\", \"dès\", \"quand\", \"temps\", \"pet\", \"celui\", \"donné\", \"partie\", \"homme\", \"petite\", \"cours\",\n",
    "       \"mme\",\"part\", \"coup\", \"demi\", \"pens\", \"neuf\", \"ruo\", \"cinq\", \"ici\", \"cond\", \"ferme\", \"coucher\", \"demandé\",\n",
    "       \"ferm\", \"comm\", \"notaires\", \"août\", \"prop\", \"alors\", \"mardi\", \"beaucoup\", \"enfants\", \"ventes\", \"lundi\", \"jeudi\",\n",
    "       \"donner\", \"nuit\", \"chamb\", \"chaque\", \"dimanche\", \"dos\", \"uno\", \"garn\", \"lés\", \"fam\", \"jolie\", \"demain\", \"année\",\n",
    "       \"petite\", \"fam\", \"uno\", \"celui\", \"contenant\", \"premier\", \"assez\", \"nouvelles\", \"beaucoup\", \"cond\", \"con\",\n",
    "       \"PET\", \"vendredi\", \"quand\", \"nouveau\", \"gros\", \"dix\", \"mieux\", \"journ\", \"chaque\", \"cert\", \"dém\", \"dos\",\n",
    "       \"vend\", \"chamb\", \"alors\", \"seulement\", \"mars\", \"delà\", \"trop\", \"courant\", \"demain\", \"brux\",\n",
    "       \"dernier\", \"hon\", \"bel\", \"seul\", \"frais\", \"petits\", \"dernière\", \"mis\", \"diverses\", \"référ\",\n",
    "       \"jne\", \"tant\", \"franco\", \"francs\",\"quelque\", \"nouvelle\", \"vieux\", \"placé\", \"garni\",\n",
    "       \"mal\", \"sachant\", \"six\", \"nommé\", \"propre\", \"avril\", \"coud\", \"juin\", \"octobre\", \"enf\",\n",
    "       \"mis\", \"divers\", \"sait\", \"servi\", \"flam\", \"septembre\", \"frais\", \"hom\", \"bel\", \"hon\",\n",
    "       \"ouvrir\", \"enfin\", \"février\", \"hui\", \"dessus\", \"lès\", \"janvier\", \"scs\", \"partout\", \"façon\",\n",
    "       \"laquelle\", \"ste\", \"samedi\", \"mans\", \"années\", \"ment\", \"mai\", \"voici\", \"céder\", \"surtout\",\n",
    "       \"mercredi\", \"parmi\", \"franç\", \"font\", \"ancien\", \"cond\", \"mlle\", \"jeunes\", \"beaux\", \"semaine\",\n",
    "       \"garnie\", \"reçu\", \"trouve\", \"derrière\", \"ruc\", \"rest\", \"conn\", \"lit\", \"haute\", \"parce\", \"fin\",\n",
    "       \"aucune\", \"aussitôt\", \"ouvr\", \"aucune\", \"donne\", \"certains\", \"ord\", \"peuvent\", \"loin\", \"décembre\",\n",
    "       \"autant\", \"possible\", \"première\", \"prochains\", \"faite\", \"voilà\", \"rendre\", \"maintenant\", \"ensuite\",\n",
    "       \"los\", \"novembre\", \"presque\", \"ailleurs\", \"longtemps\", \"veut\", \"heure\", \"cependant\", \"écrit\", \"pourrait\",\n",
    "        \"comment\", \"mettre\", \"abord\", \"oui\", \"mêmes\", \"nombreux\", \"également\", \"malgré\" ]\n",
    "sw = set(sw)"
   ]
  },
  {
   "cell_type": "markdown",
   "metadata": {},
   "source": [
    "### Préparation du corpus"
   ]
  },
  {
   "cell_type": "code",
   "execution_count": null,
   "metadata": {},
   "outputs": [],
   "source": [
    "# Lister les fichiers de cette année\n",
    "data_path = 'data'\n",
    "txts = [f for f in os.listdir(data_path) if os.path.isfile(os.path.join(data_path, f))]\n",
    "len(txts)"
   ]
  },
  {
   "cell_type": "code",
   "execution_count": null,
   "metadata": {},
   "outputs": [],
   "source": [
    "# Stocker le contenu de ces fichiers dans une liste\n",
    "content_list = []\n",
    "for txt in txts:\n",
    "    with open(os.path.join(data_path, txt), 'r', encoding='utf-8') as f:\n",
    "        content_list.append(f.read())"
   ]
  },
  {
   "cell_type": "code",
   "execution_count": null,
   "metadata": {},
   "outputs": [],
   "source": [
    "# Compter le nombre d'éléments (=fichiers) dans la liste\n",
    "len(content_list)"
   ]
  },
  {
   "cell_type": "code",
   "execution_count": null,
   "metadata": {},
   "outputs": [],
   "source": [
    "# Imprimer les 200 premiers caractères du contenu du premier fichier\n",
    "content_list[0][0:200]"
   ]
  },
  {
   "cell_type": "code",
   "execution_count": null,
   "metadata": {},
   "outputs": [],
   "source": [
    "# Ecrire tout le contenu dans un fichier temporaire\n",
    "temp_path = '../data/tmp'\n",
    "if not os.path.exists(temp_path):\n",
    "    os.mkdir(temp_path)\n",
    "with open(os.path.join(temp_path, f'*.txt'), 'w', encoding='utf-8') as f:\n",
    "    f.write(' '.join(content_list))"
   ]
  },
  {
   "cell_type": "code",
   "execution_count": null,
   "metadata": {},
   "outputs": [],
   "source": [
    "# Imprimer le contenu du fichier et constater les \"déchets\"\n",
    "with open(os.path.join(temp_path, f'*.txt'), 'r', encoding='utf-8') as f:\n",
    "    before = f.read()\n",
    "\n",
    "before[:500]"
   ]
  },
  {
   "cell_type": "markdown",
   "metadata": {},
   "source": [
    "#### Fonction de nettoyage"
   ]
  },
  {
   "cell_type": "code",
   "execution_count": null,
   "metadata": {},
   "outputs": [],
   "source": [
    "def clean_text(folder=None):\n",
    "    if folder is None:\n",
    "        input_path = f\"*.txt\"\n",
    "        output_path = f\"*_clean.txt\"\n",
    "    else:\n",
    "        input_path = f\"{folder}/*.txt\"\n",
    "        output_path = f\"{folder}/*_clean.txt\"\n",
    "    output = open(output_path, \"w\", encoding='utf-8')\n",
    "    with open(input_path, 'r', encoding='utf-8') as f:\n",
    "        text = f.read()\n",
    "        words = nltk.wordpunct_tokenize(text)\n",
    "        kept = [w.upper() for w in words if len(w) > 2 and w.isalpha() and w.lower() not in sw]\n",
    "        kept_string = \" \".join(kept)\n",
    "        output.write(kept_string)\n",
    "    return f'Output has been written in {output_path}!'"
   ]
  },
  {
   "cell_type": "code",
   "execution_count": null,
   "metadata": {},
   "outputs": [],
   "source": [
    "clean_text(folder=temp_path)"
   ]
  },
  {
   "cell_type": "code",
   "execution_count": null,
   "metadata": {},
   "outputs": [],
   "source": [
    "# Vérifier le résultat\n",
    "with open(os.path.join(temp_path, f'*_clean.txt'), 'r', encoding='utf-8') as f:\n",
    "    after = f.read()\n",
    "\n",
    "after[:500]"
   ]
  },
  {
   "cell_type": "code",
   "execution_count": null,
   "metadata": {},
   "outputs": [],
   "source": [
    "frequencies = Counter(after.split())\n",
    "print(frequencies.most_common(10))"
   ]
  },
  {
   "cell_type": "code",
   "execution_count": null,
   "metadata": {},
   "outputs": [],
   "source": [
    "cloud = WordCloud(width=2000, height=1000, background_color='white').generate_from_frequencies(frequencies)\n",
    "\n"
   ]
  },
  {
   "cell_type": "code",
   "execution_count": null,
   "metadata": {},
   "outputs": [],
   "source": [
    "cloud.to_file(os.path.join(temp_path, f\"*.png\"))\n",
    "Image(filename=os.path.join(temp_path, f\"*.png\"))"
   ]
  }
 ],
 "metadata": {
  "kernelspec": {
   "display_name": "tac_venv",
   "language": "python",
   "name": "python3"
  },
  "language_info": {
   "codemirror_mode": {
    "name": "ipython",
    "version": 3
   },
   "file_extension": ".py",
   "mimetype": "text/x-python",
   "name": "python",
   "nbconvert_exporter": "python",
   "pygments_lexer": "ipython3",
   "version": "3.10.12"
  }
 },
 "nbformat": 4,
 "nbformat_minor": 2
}
